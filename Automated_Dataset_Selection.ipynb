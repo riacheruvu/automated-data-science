{
  "nbformat": 4,
  "nbformat_minor": 0,
  "metadata": {
    "colab": {
      "name": "Automated_Dataset_Selection.ipynb",
      "version": "0.3.2",
      "provenance": [],
      "collapsed_sections": [],
      "include_colab_link": true
    },
    "kernelspec": {
      "display_name": "Python 3",
      "language": "python",
      "name": "python3"
    }
  },
  "cells": [
    {
      "cell_type": "markdown",
      "metadata": {
        "id": "view-in-github",
        "colab_type": "text"
      },
      "source": [
        "<a href=\"https://colab.research.google.com/github/riacheruvu/automated-data-science/blob/master/Automated_Dataset_Selection.ipynb\" target=\"_parent\"><img src=\"https://colab.research.google.com/assets/colab-badge.svg\" alt=\"Open In Colab\"/></a>"
      ]
    },
    {
      "cell_type": "markdown",
      "metadata": {
        "colab_type": "text",
        "id": "uhPu69UeWgiE"
      },
      "source": [
        ""
      ]
    },
    {
      "cell_type": "markdown",
      "metadata": {
        "id": "2Jt3UowZ7CZl",
        "colab_type": "text"
      },
      "source": [
        "# Automated Dataset Selection"
      ]
    },
    {
      "cell_type": "markdown",
      "metadata": {
        "id": "4buMC5YUdcfv",
        "colab_type": "text"
      },
      "source": [
        "This is a preliminary, work in progress attempt to parse results from Google Data Search (https://toolbox.google.com/datasetsearch) using BeautifulSoup in response to a query (\"business problem\") and apply fuzzy string matching to the query in order to determine the appropriate dataset.\n",
        "\n",
        "Please ignore the unclean code and comments; a thorough clean-up and revision of the implementation is coming soon."
      ]
    },
    {
      "cell_type": "markdown",
      "metadata": {
        "id": "4I7fAiKb7CZm",
        "colab_type": "text"
      },
      "source": [
        "# Import Necessary Packages"
      ]
    },
    {
      "cell_type": "code",
      "metadata": {
        "id": "yrIVgmz77CZo",
        "colab_type": "code",
        "outputId": "1ca4d0da-4f1e-4615-ec9e-4d6a3ad6f53b",
        "colab": {
          "base_uri": "https://localhost:8080/",
          "height": 103
        }
      },
      "source": [
        "import numpy as np\n",
        "import matplotlib.pyplot as plt\n",
        "import pandas as pd\n",
        "import seaborn as sns\n",
        "import nltk\n",
        "from nltk.tokenize import sent_tokenize, word_tokenize\n",
        "nltk.download('stopwords')\n",
        "nltk.download('punkt')\n",
        "from nltk.corpus import stopwords\n",
        "import webbrowser\n",
        "import requests\n",
        "#from urllib.request import urlopen as uReq\n",
        "import urllib\n",
        "!pip install fuzzywuzzy\n",
        "from bs4 import BeautifulSoup\n",
        "from numpy import array\n",
        "from numpy import argmax\n",
        "from sklearn.preprocessing import LabelEncoder\n",
        "from sklearn.preprocessing import OneHotEncoder\n",
        "from ipywidgets import widgets\n",
        "from IPython.display import display"
      ],
      "execution_count": 138,
      "outputs": [
        {
          "output_type": "stream",
          "text": [
            "[nltk_data] Downloading package stopwords to /root/nltk_data...\n",
            "[nltk_data]   Package stopwords is already up-to-date!\n",
            "[nltk_data] Downloading package punkt to /root/nltk_data...\n",
            "[nltk_data]   Package punkt is already up-to-date!\n",
            "Requirement already satisfied: fuzzywuzzy in /usr/local/lib/python3.6/dist-packages (0.17.0)\n"
          ],
          "name": "stdout"
        }
      ]
    },
    {
      "cell_type": "markdown",
      "metadata": {
        "id": "OtFsQORh7CZt",
        "colab_type": "text"
      },
      "source": [
        "# Read and analyze your request"
      ]
    },
    {
      "cell_type": "markdown",
      "metadata": {
        "id": "DxIxhxCZ7CZu",
        "colab_type": "text"
      },
      "source": [
        "Hi! This tool is meant for supervised learning applications (in other words, given some data, the machine learning algorithm will make predictions). It also only supports prediction of a single feature at the moment.\n",
        "\n",
        "Answer a few questions about the type of business problem you're interested in, and we'll whip up some datasets you might be interested in."
      ]
    },
    {
      "cell_type": "code",
      "metadata": {
        "scrolled": true,
        "id": "oTs3F_8x7CZu",
        "colab_type": "code",
        "outputId": "48f8b396-9cb5-46bc-924a-771f10ea1a27",
        "colab": {
          "base_uri": "https://localhost:8080/",
          "height": 88
        }
      },
      "source": [
        "#Code for Ipython widgets\n",
        "\n",
        "from ipywidgets import widgets\n",
        "from IPython.display import display\n",
        "text = widgets.Text()\n",
        "new_text = widgets.Text()\n",
        "even_newer_text = widgets.Text()\n",
        "\n",
        "type_of_dataset = input(\"What is the topic of the business problem would you like to solve? For example, try 'Boston Education Data'\\n\")\n",
        "\n",
        "keywords = input(\"What keywords would you use to describe the dataset(s) that fits your application?\")"
      ],
      "execution_count": 313,
      "outputs": [
        {
          "output_type": "stream",
          "text": [
            "What is the topic of the business problem would you like to solve? For example, try 'Boston Education Data'\n",
            "Boston Education Data\n",
            "What keywords would you use to describe the dataset(s) that fits your application?boston school facility yearly data building learning environments\n"
          ],
          "name": "stdout"
        }
      ]
    },
    {
      "cell_type": "code",
      "metadata": {
        "id": "xN9ELJEN7CZz",
        "colab_type": "code",
        "colab": {}
      },
      "source": [
        "stop_words = set(stopwords.words('english')) \n",
        "  \n",
        "word_tokens = word_tokenize(type_of_dataset) \n",
        "  \n",
        "filtered_sentence = [w for w in word_tokens if not w in stop_words] "
      ],
      "execution_count": 0,
      "outputs": []
    },
    {
      "cell_type": "code",
      "metadata": {
        "id": "wZi7SEbv7CZ3",
        "colab_type": "code",
        "outputId": "4bd47f08-434b-4d50-c3d8-4c044bd648d2",
        "colab": {
          "base_uri": "https://localhost:8080/",
          "height": 34
        }
      },
      "source": [
        "print(filtered_sentence)"
      ],
      "execution_count": 332,
      "outputs": [
        {
          "output_type": "stream",
          "text": [
            "['Boston', 'Education', 'Data']\n"
          ],
          "name": "stdout"
        }
      ]
    },
    {
      "cell_type": "markdown",
      "metadata": {
        "id": "slUbDKcn7CZ8",
        "colab_type": "text"
      },
      "source": [
        "# Find and download the right dataset for you"
      ]
    },
    {
      "cell_type": "code",
      "metadata": {
        "id": "O_11Hzgk7CZ9",
        "colab_type": "code",
        "colab": {
          "base_uri": "https://localhost:8080/",
          "height": 34
        },
        "outputId": "0624d3d5-d213-4a90-c274-910d74469496"
      },
      "source": [
        "URL = 'https://toolbox.google.com/datasetsearch/search?query='\n",
        "\n",
        "for i in range(len(filtered_sentence)):\n",
        "  URL = URL + filtered_sentence[i] + '%20'\n",
        "  \n",
        "URL"
      ],
      "execution_count": 316,
      "outputs": [
        {
          "output_type": "execute_result",
          "data": {
            "text/plain": [
              "'https://toolbox.google.com/datasetsearch/search?query=Boston%20Education%20Data%20'"
            ]
          },
          "metadata": {
            "tags": []
          },
          "execution_count": 316
        }
      ]
    },
    {
      "cell_type": "code",
      "metadata": {
        "id": "gTC_KBq07CZ_",
        "colab_type": "code",
        "colab": {}
      },
      "source": [
        "data = requests.get(URL) #gets all the content of webpage\n",
        "soup = BeautifulSoup(data.text,'html.parser')"
      ],
      "execution_count": 0,
      "outputs": []
    },
    {
      "cell_type": "code",
      "metadata": {
        "scrolled": true,
        "id": "0exE2djL7CaB",
        "colab_type": "code",
        "colab": {}
      },
      "source": [
        "hi = soup.prettify()\n",
        "hi = soup.get_text()"
      ],
      "execution_count": 0,
      "outputs": []
    },
    {
      "cell_type": "code",
      "metadata": {
        "scrolled": true,
        "id": "g466xfbf7CaH",
        "colab_type": "code",
        "colab": {}
      },
      "source": [
        "hi = str(hi)\n",
        "hi = hi.split(\"data:function(){return \",1)[1]\n",
        "l = hi.replace('null','')\n",
        "p = l.replace('\\n', '')"
      ],
      "execution_count": 0,
      "outputs": []
    },
    {
      "cell_type": "code",
      "metadata": {
        "scrolled": true,
        "id": "EMydyTwF7CaJ",
        "colab_type": "code",
        "colab": {}
      },
      "source": [
        "import re\n",
        "#Get Next Name of Dataset\n",
        "compare = []\n",
        "\n",
        "rest = p.split(\"'\\\\',\", 1)[0]"
      ],
      "execution_count": 0,
      "outputs": []
    },
    {
      "cell_type": "code",
      "metadata": {
        "id": "SlnURC_s7CaM",
        "colab_type": "code",
        "colab": {}
      },
      "source": [
        "rest = re.findall('\"([^\"]*)\"', rest)"
      ],
      "execution_count": 0,
      "outputs": []
    },
    {
      "cell_type": "code",
      "metadata": {
        "scrolled": false,
        "id": "xbWr4cNk7CaR",
        "colab_type": "code",
        "colab": {}
      },
      "source": [
        "#Code reused from https://stackoverflow.com/questions/28050350/split-list-of-strings-into-list-of-sublists-based-on-a-string\n",
        "questionchunks = []\n",
        "hithere = []\n",
        "qlist = []\n",
        "for line in rest:\n",
        "\n",
        "    if (line != '\\\\' ):\n",
        "        questionchunks.append(line)      # add the element to each of your chunk   \n",
        "    else: \n",
        "        qlist.append(questionchunks)   # append chunk\n",
        "        questionchunks = []       # reset chunk"
      ],
      "execution_count": 0,
      "outputs": []
    },
    {
      "cell_type": "code",
      "metadata": {
        "id": "Z2yI5dWufk86",
        "colab_type": "code",
        "colab": {}
      },
      "source": [
        "len(questionchunks)\n",
        "if str(questionchunks).startswith( \"[''\") == True: ##Need to confirm this is true in all cases where questionchunks doesn't contain the real info\n",
        "    flat_list = [item for sublist in qlist for item in sublist]\n",
        "else:\n",
        "  flat_list = questionchunks"
      ],
      "execution_count": 0,
      "outputs": []
    },
    {
      "cell_type": "code",
      "metadata": {
        "scrolled": true,
        "id": "sP1kHCQw7CaZ",
        "colab_type": "code",
        "outputId": "f79a5f47-434c-4e93-9a28-0f1fc02d2397",
        "colab": {
          "base_uri": "https://localhost:8080/",
          "height": 1000
        }
      },
      "source": [
        "real_list=[]\n",
        "real_list.append([item.split() for item in ' '.join(flat_list).split('AAAAAA') if item])\n",
        "c= 0\n",
        "for x in real_list:\n",
        "    for y in x:\n",
        "        c = c +1\n",
        "print(c)\n",
        "\n",
        "real_list[0][0]"
      ],
      "execution_count": 327,
      "outputs": [
        {
          "output_type": "stream",
          "text": [
            "100\n"
          ],
          "name": "stdout"
        },
        {
          "output_type": "execute_result",
          "data": {
            "text/plain": [
              "['Boston',\n",
              " 'Education',\n",
              " 'Data',\n",
              " 'BuildBPS:',\n",
              " 'Facilities',\n",
              " 'and',\n",
              " 'Educational',\n",
              " 'Data',\n",
              " 'for',\n",
              " 'Boston',\n",
              " 'Public',\n",
              " 'Schools',\n",
              " 'data.boston.gov',\n",
              " 'Analyze',\n",
              " 'Boston',\n",
              " 'https://data.boston.gov',\n",
              " 'boston.gov',\n",
              " 'https://data.boston.gov/dataset/buildbps-facilities-and-educational-data-for-boston-public-schools',\n",
              " 'BuildBPS',\n",
              " 'Buildings',\n",
              " 'Facilities',\n",
              " 'Operations',\n",
              " 'Schools',\n",
              " 'xlsx',\n",
              " 'pdf',\n",
              " 'csv',\n",
              " 'http://www.opendefinition.org/licenses/odc-pddl',\n",
              " 'Apr',\n",
              " '5,',\n",
              " '2017',\n",
              " 'May',\n",
              " '14,',\n",
              " '2019',\n",
              " 'Boston',\n",
              " 'Public',\n",
              " 'Schools',\n",
              " 'http://www.bostonpublicschools.org/',\n",
              " 'https://t2.gstatic.com/images?q\\\\u003dtbn:ANd9GcSithRu5WIlgCsrUECZZmtY8agqshFNdkwwx9vqdb_SAsqnShFW',\n",
              " '\\\\u003cp',\n",
              " 'class\\\\u003d\\\\',\n",
              " '\\\\u003eBuildBPS',\n",
              " 'compiles',\n",
              " 'vast',\n",
              " 'amounts',\n",
              " 'of',\n",
              " 'data',\n",
              " 'and',\n",
              " 'allows',\n",
              " 'for',\n",
              " 'ongoing',\n",
              " 'analyses',\n",
              " 'that',\n",
              " 'can',\n",
              " 'be',\n",
              " 'used',\n",
              " 'to',\n",
              " 'guide',\n",
              " 'and',\n",
              " 'inform',\n",
              " 'decisions',\n",
              " 'related',\n",
              " 'to',\n",
              " 'school',\n",
              " 'building',\n",
              " 'investments.',\n",
              " 'An',\n",
              " 'assessment',\n",
              " 'team',\n",
              " 'of',\n",
              " 'architects',\n",
              " 'and',\n",
              " 'educational',\n",
              " 'planners',\n",
              " 'visited',\n",
              " 'all',\n",
              " 'of',\n",
              " 'Boston',\n",
              " 'Public',\n",
              " 'Schools’',\n",
              " 'buildings,',\n",
              " 'collecting',\n",
              " 'and',\n",
              " 'organizing',\n",
              " 'information',\n",
              " 'on',\n",
              " 'the',\n",
              " 'physical',\n",
              " 'condition',\n",
              " 'of',\n",
              " 'each',\n",
              " 'building',\n",
              " 'and',\n",
              " 'their',\n",
              " 'educational',\n",
              " 'suitability',\n",
              " 'to',\n",
              " 'the',\n",
              " 'programs',\n",
              " 'offered',\n",
              " 'within.',\n",
              " 'Beyond',\n",
              " 'the',\n",
              " 'general',\n",
              " 'information',\n",
              " 'about',\n",
              " 'each',\n",
              " 'school',\n",
              " 'building,',\n",
              " 'the',\n",
              " 'data',\n",
              " 'is',\n",
              " 'organized',\n",
              " 'in',\n",
              " 'the',\n",
              " 'following',\n",
              " 'four',\n",
              " 'categories:',\n",
              " 'Facility',\n",
              " 'Assessment–',\n",
              " 'Building,',\n",
              " 'Facility',\n",
              " 'Assessment–Site,',\n",
              " 'Educational',\n",
              " 'Facility',\n",
              " 'Effectiveness:',\n",
              " 'Learning',\n",
              " 'Environments,',\n",
              " 'and',\n",
              " 'Educational',\n",
              " 'Facility',\n",
              " 'Effectiveness:',\n",
              " 'Spaces.',\n",
              " 'This',\n",
              " 'dataset',\n",
              " 'will',\n",
              " 'be',\n",
              " 'updated',\n",
              " 'on',\n",
              " 'a',\n",
              " 'yearly',\n",
              " 'basis',\n",
              " 'to',\n",
              " 'reflect',\n",
              " 'changes',\n",
              " 'as',\n",
              " 'renovations',\n",
              " 'and',\n",
              " 'upgrades',\n",
              " 'occur.\\\\u003c/p\\\\u003e',\n",
              " 'BuildBPS:',\n",
              " 'Facilities',\n",
              " 'and',\n",
              " 'Educational',\n",
              " 'Data',\n",
              " 'for',\n",
              " 'Boston',\n",
              " 'Public',\n",
              " 'Schools',\n",
              " 'CbP3ekzXpKMmN+Yt']"
            ]
          },
          "metadata": {
            "tags": []
          },
          "execution_count": 327
        }
      ]
    },
    {
      "cell_type": "code",
      "metadata": {
        "id": "qwoH60Gp7Cab",
        "colab_type": "code",
        "outputId": "2b1431c9-b5ee-4b7b-92ad-5cde406cf603",
        "colab": {
          "base_uri": "https://localhost:8080/",
          "height": 380
        }
      },
      "source": [
        "fuzzy_scores = {}\n",
        "for pi in range(0,10):\n",
        "    print(pi)\n",
        "    result = (real_list[0][pi])\n",
        "    hello = []\n",
        "\n",
        "    preprocessed_text = re.sub(r'.*\\u003e', '\\u003e', str(result))\n",
        "    \n",
        "    hello.append(preprocessed_text)\n",
        "\n",
        "    hi = str(hello).replace(\"\\\\\", \"\")\n",
        "    bye = hi.replace(\"/br\", \" \")\n",
        "    bye.replace(\"/p\", \" \")\n",
        "    rep = {\"src\": \"\", \"alt\": \n",
        "           \"\", \"a href\": \"\", \"pnnp\": \"\", \"class\": \"\", \"/a\": \"\", \"/em\": \"\", \"/p\": \"\", \"img\": \"\", \n",
        "           \"boqResearchsciencesearchdesktopuiDetailDescriptionElement_\": \"\",  \"blockquote\": \"\", \"u003e\": \"\", \"u003d\" : \"\", \"u003c\": \"\", \"\\\\\": \"\"} \n",
        "\n",
        "    rep = dict((re.escape(k), v) for k, v in rep.items())\n",
        "    pattern = re.compile(\"|\".join(rep.keys()))\n",
        "    text = pattern.sub(lambda m: rep[re.escape(m.group(0))], bye)\n",
        "    best = re.sub('07pwN8NZpOr9gbTfAAAAAA', '', text) \n",
        "    new_list = str(best).replace('\" ' '\",', \"\")\n",
        "    newer_list = str(new_list).replace('\\'', \"\")\n",
        "    another_list = str(newer_list).replace(',', \"\")\n",
        "    another_new_list = str(another_list).replace('\"', \"\")\n",
        "    string = another_new_list.replace('[','').replace(']','')\n",
        "    text = re.sub(r'@\\S+', 'Someone', string)\n",
        "    text = text.replace(\"title\", \" \")\n",
        "    pattern = re.compile(r\"\\d*([^\\d\\W]+)\\d*\")\n",
        "    text = re.sub(r'http\\S+', '', text)\n",
        "    text = pattern.sub(r\"\\1\", text)\n",
        "    text = text.replace(\"  \", \" \")\n",
        "    text = text.rsplit(' ', 1)[0]\n",
        "    x = [str(i) for i in text.split()]\n",
        "    for word in x:\n",
        "        if word.endswith(\".txt\") == True:\n",
        "            text = text.replace(word, \" \")\n",
        "        if word.endswith(\".csv\") == True:\n",
        "            text = text.replace(word, \" \")\n",
        "        if word.endswith(\".gov\") == True:\n",
        "            text = text.replace(word, \" \")\n",
        "        if word.endswith(\".py\") == True:\n",
        "            text = text.replace(word, \" \")\n",
        "        if word.endswith(\".com\") == True:\n",
        "            text = text.replace(word, \" \")\n",
        "        if word.endswith(\".org\") == True:\n",
        "            text = text.replace(word, \" \")\n",
        "        if word.endswith(\".edu\") == True:\n",
        "            text = text.replace(word, \" \")\n",
        "    print(text)\n",
        "    stop_words = set(stopwords.words('english')) \n",
        "\n",
        "    word_tokens = word_tokenize(text) \n",
        "\n",
        "    filtered_sentence = [w for w in word_tokens if not w in stop_words] \n",
        "\n",
        "    filtered_sentence = [] \n",
        "\n",
        "    for w in word_tokens: \n",
        "        if w not in stop_words: \n",
        "            filtered_sentence.append(w) \n",
        "    \n",
        "    fuzzy_scores.update( {str(filtered_sentence[:10]) : fuzz.token_set_ratio(filtered_sentence, keywords)} )"
      ],
      "execution_count": 328,
      "outputs": [
        {
          "output_type": "stream",
          "text": [
            "0\n",
            "Boston Education Data BuildBPS: Facilities and Educational Data for Boston Public Schools   Analyze Boston   BuildBPS Buildings Facilities Operations Schools xlsx pdf csv Apr 5 2017 May 14 2019 Boston Public Schools  p BuildBPS compiles vast amounts of data and allows for ongoing analyses that can be used to guide and inform decisions related to school building investments. An assessment team of architects and educational planners visited all of Boston Public Schools’ buildings collecting and organizing information on the physical condition of each building and their educational suitability to the programs offered within. Beyond the general information about each school building the data is organized in the following four categories: Facility Assessment– Building Facility Assessment–Site Educational Facility Effectiveness: Learning Environments and Educational Facility Effectiveness: Spaces. This dataset will be updated on a yearly basis to reflect changes as renovations and upgrades occur. BuildBPS: Facilities and Educational Data for Boston Public Schools\n",
            "1\n",
            " THE BOSTON EDUCATION DEVELOPMENT FOUNDATION INC fiscal year ending June 2016     ProPublica  p ProPublicas Nonprofit Explorer lets you view summaries of 2.2 million tax returns from tax-exempt organizations and see financial details such as their executive compensation and revenue and expenses. You can browse raw IRS data released since 2013 and access over 9.4 million tax filing documents going back as far as 2001. THE BOSTON EDUCATION DEVELOPMENT FOUNDATION INC fiscal year ending June... THE BOSTON EDUCATION DEVELOPMENT FOUNDATION INC fiscal year ending June 2016 THE BOSTON EDUCATION DEVELOPMENT FOUNDATION INC fiscal year ending June...\n",
            "2\n",
            " All Employees: Educational Services in Boston-Cambridge-Newton MA (NECTA Division)   FRED   SMU necta division boston ma education sae services employment bls monthly public domain: citation requested usa nsa Economic Data FRED St. Louis Fed Federal Reserve New England City and Town Areas Division Massachusetts State and Metro Area Employment Hours and Earnings Bureau of Labor Statistics United States of America Not Seasonally Adjusted Jul 19 2019 p Graph and download economic data for All Employees: Educational Services in Boston-Cambridge-Newton MA (NECTA Division) (SMU) from Jan 1990 to Jun 2019 about Boston MA education services employment and USA. All Employees: Educational Services in Boston-Cambridge-Newton MA (NECTA... All Employees: Educational Services in Boston-Cambridge-Newton MA (NECTA Division) All Employees: Educational Services in Boston-Cambridge-Newton MA (NECTA...\n",
            "3\n",
            " Demography and Class Work and Education in Boston 1880-1930   Harvard Dataverse   zip vnd.openxmlformats-officedocument.spreadsheetml.sheet pdf Boston CC 1880 1930 Apr 3 2015 Apr 2 2015 10.7910/DVN/28677 Harvard Dataverse p This database including both datasets and spatial shape files contains information on occupation school attendance nativity and race of the Boston population by ward for the years 1880 1900 and 1930. This database can be used to visualize the profound changes in the economic educational and ethnic composition of Boston between 1880 and 1930. It illustrates among other changes the great expansion of secondary school enrollment the decline of youth participation in the work force the growth of white-collar jobs the decline of unskilled labor and the geographical distribution of the Boston Irish Italian Jewish and African-American populations over time. This contextual knowledge is useful for historians researching this time period and useful to non-historians by depicting the origins of fundamental changes whose legacy is still present in Boston today. The underlying data are drawn from the Integrated Public Use Microdata Series maintained by the University of Minnesota (see documentation for full citation). The data contained here can also be viewed through an interactive map hosted by BostonMap (a href  Demography and Class Work and Education in Boston 1880-1930\n",
            "4\n",
            " All Employees: Education and Heh Services in Boston-Cambridge-Newton MA (NECTA Division)   FRED   SMUSA necta division boston ma heh education sae services frb stl employment bls sa monthly usa public domain: citation requested Economic Data FRED St. Louis Fed Federal Reserve New England City and Town Areas Division Massachusetts State and Metro Area Employment Hours and Earnings St. Louis Fed Bureau of Labor Statistics Seasonally Adjusted United States of America Jun 21 2019 p Graph and download economic data from Jan 1990 to May 2019 about Boston MA heh education services employment and USA. All Employees: Education and Heh Services in Boston-Cambridge-Newton MA... All Employees: Education and Heh Services in Boston-Cambridge-Newton MA (NECTA Division) All Employees: Education and Heh Services in Boston-Cambridge-Newton MA...\n",
            "5\n",
            " All Employees: Education and Heh Services in Boston-Cambridge-Nashua MA-NH (NECTA)   FRED   BOSTEDUH necta nh boston heh ma education services frb stl employment bls sa monthly public domain: citation requested usa Economic Data FRED St. Louis Fed Federal Reserve New England City and Town Areas New Hampshire Massachusetts St. Louis Fed Bureau of Labor Statistics Seasonally Adjusted United States of America Mar 22 2019 p Graph and download economic data from Jan 1990 to Feb 2019 about NH Boston heh MA education services employment and USA. All Employees: Education and Heh Services in Boston-Cambridge-Nashua... All Employees: Education and Heh Services in Boston-Cambridge-Nashua MA-NH (NECTA) All Employees: Education and Heh Services in Boston-Cambridge-Nashua...\n",
            "6\n",
            " Public Schools   Analyze Boston   boston bostonmaps bps ckan public schools zip geojson csv html kml esri rest Feb 9 2017 Apr 15 2019 BostonMaps p Boston Public Schools (BPS) schools for the school year 2018-2019. Updated September 2018. Public Schools\n",
            "7\n",
            " Non Public Schools   Analyze Boston               schools public open non data ckan boston bps geojson zip csv html kml esri rest Feb 9 2017 Mar 6 2019 BostonMaps p This point datalayer shows the locations of schools in Massachusetts. Schools appearing in this layer are those attended by students in pre-kindergarten through high school. Categories of schools include public private charter collaborative programs and approved special education. This data was originally developed by the Massachusetts Department of Environmental Protection’s (DEP) GIS Program based on database information provided by the Massachusetts Department of Education (DOE). The update published on April th 2009 was based on listings MassGIS obtained from the DOE as of February th 2009. The layer is stored in ArcSDE and distributed as SCHOOLS_PT. Only schools located in Massachusetts are included in this layer. The DOE also provides a listing of out-of-state schools open to Massachusetts residents particularly for those with special learning requirements. Please see a href  for details. Updated September 2018. Non Public Schools\n",
            "8\n",
            " All Employees: State Government Educational Services in Boston-Cambridge-Newton MA (NECTA Division)   FRED   SMUA state govt necta division boston ma education sae services government employment bls annual public domain: citation requested usa nsa Economic Data FRED St. Louis Fed Federal Reserve State Government New England City and Town Areas Division Massachusetts State and Metro Area Employment Hours and Earnings Bureau of Labor Statistics United States of America Not Seasonally Adjusted Mar 11 2019 p Graph and download economic data from 1990 to 2018 about state govt Boston MA education services government employment and USA. All Employees: State Government Educational Services in... All Employees: State Government Educational Services in Boston-Cambridge-Newton MA (NECTA Division) All Employees: State Government Educational Services in...\n",
            "9\n",
            " All Employees: State Government Educational Services in Boston-Cambridge-Quincy MA-NH (NECTA) (DISCONTINUED)   FRED   SMU state govt necta division necta nh boston ma education sae services discontinued government employment bls monthly public domain: citation requested usa nsa Economic Data FRED St. Louis Fed Federal Reserve State Government New England City and Town Areas Division New England City and Town Areas New Hampshire Massachusetts State and Metro Area Employment Hours and Earnings Bureau of Labor Statistics United States of America Not Seasonally Adjusted Jan 28 2015 p Graph and download economic data for All Employees: State Government Educational Services in Boston-Cambridge-Quincy MA-NH (NECTA) (DISCONTINUED) (SMU) from Jan 1990 to Dec 2014 about state govt NH Boston MA education services government employment and USA. All Employees: State Government Educational Services in... All Employees: State Government Educational Services in Boston-Cambridge-Quincy MA-NH (NECTA) (DISCONTINUED) All Employees: State Government Educational Services in...\n"
          ],
          "name": "stdout"
        }
      ]
    },
    {
      "cell_type": "markdown",
      "metadata": {
        "id": "Z6_arYu6dPSZ",
        "colab_type": "text"
      },
      "source": [
        "**The final text parsed from one of the results returned by Google Data Search:  **"
      ]
    },
    {
      "cell_type": "code",
      "metadata": {
        "id": "2J_i2E4YaHoY",
        "colab_type": "code",
        "colab": {
          "base_uri": "https://localhost:8080/",
          "height": 208
        },
        "outputId": "3b999365-7e5e-410e-86ce-d2dd739b8bd1"
      },
      "source": [
        "fuzzy_scores"
      ],
      "execution_count": 329,
      "outputs": [
        {
          "output_type": "execute_result",
          "data": {
            "text/plain": [
              "{\"['All', 'Employees', ':', 'Education', 'Heh', 'Services', 'Boston-Cambridge-Nashua', 'MA-NH', '(', 'NECTA']\": 29,\n",
              " \"['All', 'Employees', ':', 'Education', 'Heh', 'Services', 'Boston-Cambridge-Newton', 'MA', '(', 'NECTA']\": 29,\n",
              " \"['All', 'Employees', ':', 'Educational', 'Services', 'Boston-Cambridge-Newton', 'MA', '(', 'NECTA', 'Division']\": 29,\n",
              " \"['All', 'Employees', ':', 'State', 'Government', 'Educational', 'Services', 'Boston-Cambridge-Newton', 'MA', '(']\": 29,\n",
              " \"['All', 'Employees', ':', 'State', 'Government', 'Educational', 'Services', 'Boston-Cambridge-Quincy', 'MA-NH', '(']\": 29,\n",
              " \"['Boston', 'Education', 'Data', 'BuildBPS', ':', 'Facilities', 'Educational', 'Data', 'Boston', 'Public']\": 100,\n",
              " \"['Demography', 'Class', 'Work', 'Education', 'Boston', '1880-1930', 'Harvard', 'Dataverse', 'zip', 'vnd.openxmlformats-officedocument.spreadsheetml.sheet']\": 43,\n",
              " \"['Non', 'Public', 'Schools', 'Analyze', 'Boston', 'schools', 'public', 'open', 'non', 'data']\": 59,\n",
              " \"['Public', 'Schools', 'Analyze', 'Boston', 'boston', 'bostonmaps', 'bps', 'ckan', 'public', 'schools']\": 33,\n",
              " \"['THE', 'BOSTON', 'EDUCATION', 'DEVELOPMENT', 'FOUNDATION', 'INC', 'fiscal', 'year', 'ending', 'June']\": 29}"
            ]
          },
          "metadata": {
            "tags": []
          },
          "execution_count": 329
        }
      ]
    },
    {
      "cell_type": "code",
      "metadata": {
        "id": "9Ya0ftSkdOV7",
        "colab_type": "code",
        "outputId": "58fd8c16-9e7c-47d4-8e75-42d75f1ab21f",
        "colab": {
          "base_uri": "https://localhost:8080/",
          "height": 140
        }
      },
      "source": [
        "import operator\n",
        "\n",
        "sorted_x = sorted(fuzzy_scores.items(), key=operator.itemgetter(1), reverse=True)\n",
        "sorted_x[0:3]"
      ],
      "execution_count": 330,
      "outputs": [
        {
          "output_type": "execute_result",
          "data": {
            "text/plain": [
              "[(\"['Boston', 'Education', 'Data', 'BuildBPS', ':', 'Facilities', 'Educational', 'Data', 'Boston', 'Public']\",\n",
              "  100),\n",
              " (\"['Non', 'Public', 'Schools', 'Analyze', 'Boston', 'schools', 'public', 'open', 'non', 'data']\",\n",
              "  59),\n",
              " (\"['Demography', 'Class', 'Work', 'Education', 'Boston', '1880-1930', 'Harvard', 'Dataverse', 'zip', 'vnd.openxmlformats-officedocument.spreadsheetml.sheet']\",\n",
              "  43)]"
            ]
          },
          "metadata": {
            "tags": []
          },
          "execution_count": 330
        }
      ]
    },
    {
      "cell_type": "markdown",
      "metadata": {
        "id": "_zVHRiurbJ3Q",
        "colab_type": "text"
      },
      "source": [
        "**Fuzzy text string matching algorithm experiments**"
      ]
    },
    {
      "cell_type": "code",
      "metadata": {
        "id": "P4DcBn0y7Can",
        "colab_type": "code",
        "outputId": "ad7daef4-ba55-4a65-f61e-30b29eb241fb",
        "colab": {
          "base_uri": "https://localhost:8080/",
          "height": 34
        }
      },
      "source": [
        "from fuzzywuzzy import fuzz\n",
        "print(fuzz.ratio(text, 'Boston education data'))\n",
        "print(fuzz.ratio(text, 'I like to swim'))"
      ],
      "execution_count": 27,
      "outputs": [
        {
          "output_type": "execute_result",
          "data": {
            "text/plain": [
              "2"
            ]
          },
          "metadata": {
            "tags": []
          },
          "execution_count": 27
        }
      ]
    },
    {
      "cell_type": "code",
      "metadata": {
        "id": "Rtv-vig77Cao",
        "colab_type": "code",
        "outputId": "b0cfd521-824d-4f19-9eac-2b72d819fce3",
        "colab": {
          "base_uri": "https://localhost:8080/",
          "height": 34
        }
      },
      "source": [
        "from fuzzywuzzy import fuzz\n",
        "print(fuzz.partial_ratio(text, 'Boston education data'))\n",
        "print(fuzz.partial_ratio(text, 'I like to swim'))"
      ],
      "execution_count": 28,
      "outputs": [
        {
          "output_type": "execute_result",
          "data": {
            "text/plain": [
              "36"
            ]
          },
          "metadata": {
            "tags": []
          },
          "execution_count": 28
        }
      ]
    },
    {
      "cell_type": "code",
      "metadata": {
        "id": "s-wKt6JL7Caq",
        "colab_type": "code",
        "outputId": "a83af8ff-aaca-47f8-a9d6-343557815478",
        "colab": {
          "base_uri": "https://localhost:8080/",
          "height": 34
        }
      },
      "source": [
        "#Sometimes a good option - resilient to false positives \n",
        "from fuzzywuzzy import fuzz\n",
        "print(fuzz.token_sort_ratio(text, 'Boston education data'))\n",
        "print(fuzz.token_sort_ratio(text, 'I like to swim'))"
      ],
      "execution_count": 29,
      "outputs": [
        {
          "output_type": "execute_result",
          "data": {
            "text/plain": [
              "2"
            ]
          },
          "metadata": {
            "tags": []
          },
          "execution_count": 29
        }
      ]
    },
    {
      "cell_type": "code",
      "metadata": {
        "id": "morr2lxM7Cau",
        "colab_type": "code",
        "outputId": "9102f8cb-5e67-4dd7-86fd-52e75ce01c0b",
        "colab": {
          "base_uri": "https://localhost:8080/",
          "height": 34
        }
      },
      "source": [
        "print(fuzz.token_set_ratio(text, 'Boston education data'))\n",
        "print(fuzz.token_set_ratio(text, 'I like to swim'))"
      ],
      "execution_count": 30,
      "outputs": [
        {
          "output_type": "execute_result",
          "data": {
            "text/plain": [
              "25"
            ]
          },
          "metadata": {
            "tags": []
          },
          "execution_count": 30
        }
      ]
    }
  ]
}